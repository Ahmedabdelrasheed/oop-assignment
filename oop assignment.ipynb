{
 "cells": [
  {
   "cell_type": "code",
   "execution_count": 48,
   "id": "9731c0fa",
   "metadata": {},
   "outputs": [
    {
     "name": "stdout",
     "output_type": "stream",
     "text": [
      "['ball']\n",
      "['ball', 'playstation']\n",
      "['ball', 'playstation', 'toyes']\n",
      "{'ahmed': 'playstation'}\n",
      "['ball', 'toyes', 'playstation']\n",
      "{}\n",
      "['ball', 'toyes', 'playstation', 'dog toy'] {'mahmed': 'dog toy'}\n"
     ]
    }
   ],
   "source": [
    "class library:\n",
    "    def __init__(self):\n",
    "        self.game_list=[]\n",
    "        self.doner={}\n",
    "        self.lender={}\n",
    "    def games(self,game):\n",
    "        \n",
    "        if game not in self.game_list:\n",
    "            self.game_list.append(game)\n",
    "            print(self.game_list)\n",
    "    def lend_method(self,name,game):\n",
    "        if name not in self.doner:\n",
    "            self.doner[name]=game\n",
    "            print(self.doner)\n",
    "            a=self.game_list.pop(1)\n",
    "    def return_method(self,name,game):\n",
    "        del self.doner[name]\n",
    "        self.game_list.append(game)\n",
    "        print(self.game_list)\n",
    "        print(self.doner)\n",
    "    def donate_game(self,name,game):\n",
    "        self.lender[name]=game\n",
    "        self.game_list.append(game)\n",
    "        print(self.game_list,self.lender)\n",
    "            \n",
    "a1=library()\n",
    "a1.games(\"ball\")\n",
    "a1.games(\"playstation\")\n",
    "a1.games(\"toyes\")\n",
    "a1.lend_method(\"ahmed\",\"playstation\")\n",
    "a1.return_method(\"ahmed\",\"playstation\")\n",
    "a1.donate_game(\"mahmed\",\"dog toy\")\n",
    "            "
   ]
  },
  {
   "cell_type": "code",
   "execution_count": 49,
   "id": "c693a0e0",
   "metadata": {},
   "outputs": [
    {
     "name": "stdout",
     "output_type": "stream",
     "text": [
      "invalid pass word\n",
      "your blance is 0\n",
      "your blance after transiaction is5000\n",
      "your blance after transiaction is3000\n"
     ]
    }
   ],
   "source": [
    "\n",
    "class bank():\n",
    "    def __init__(self,user,pass_word,blance):\n",
    "        self.user=[]\n",
    "        self.pass_word=set()\n",
    "        self.blance=blance\n",
    "    def new_acount(self,user,pass_word):\n",
    "        if user in self.user:\n",
    "            print(\"invalid user\")\n",
    "        else:\n",
    "            self.user.append(user)\n",
    "        if self.pass_word!=pass_word:\n",
    "            print(\"invalid pass word\")\n",
    "        else:\n",
    "            print(\"login succes\")\n",
    "    def Check_Balance(self):\n",
    "        print(\"your blance is {}\".format(self.blance))\n",
    "    def deposite(self,amount):\n",
    "        self.blance+=amount\n",
    "        print('your blance after transiaction is{}'.format(self.blance))\n",
    "    def withdraw(self,amount):\n",
    "        self.blance-=amount\n",
    "        print(\"your blance after transiaction is{}\".format(self.blance))\n",
    "ac1=bank(\"ahmed\",12122,0)\n",
    "ac1.new_acount(\"ahmed\",121212)\n",
    "ac1.Check_Balance()\n",
    "ac1.deposite(5000) \n",
    "ac1.withdraw(2000)\n"
   ]
  },
  {
   "cell_type": "code",
   "execution_count": null,
   "id": "8dde1270",
   "metadata": {},
   "outputs": [],
   "source": []
  }
 ],
 "metadata": {
  "kernelspec": {
   "display_name": "Python 3 (ipykernel)",
   "language": "python",
   "name": "python3"
  },
  "language_info": {
   "codemirror_mode": {
    "name": "ipython",
    "version": 3
   },
   "file_extension": ".py",
   "mimetype": "text/x-python",
   "name": "python",
   "nbconvert_exporter": "python",
   "pygments_lexer": "ipython3",
   "version": "3.11.5"
  }
 },
 "nbformat": 4,
 "nbformat_minor": 5
}
